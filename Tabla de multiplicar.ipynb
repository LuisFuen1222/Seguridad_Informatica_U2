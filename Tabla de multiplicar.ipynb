{
 "cells": [
  {
   "cell_type": "code",
   "execution_count": null,
   "id": "9c8ab7bc",
   "metadata": {},
   "outputs": [],
   "source": [
    "# Indentación\n",
    "\n",
    "# ; No existen en linea de codigo\n",
    "# {} No existe bloques de codigo\n",
    "# () no existe en funciones\n",
    "\n",
    "# :\n",
    "\n",
    "# indentado - Espacios 4 espacios obligados \n",
    "\n"
   ]
  },
  {
   "cell_type": "code",
   "execution_count": null,
   "id": "bce7fcd6",
   "metadata": {},
   "outputs": [],
   "source": [
    "a=1 \n",
    "b=5\n",
    "if a<b :\n",
    "    print(\"hola\")\n",
    "    if a<b algo:\n",
    "else:\n",
    "    \n",
    "    print(\"mundo\")"
   ]
  },
  {
   "cell_type": "code",
   "execution_count": null,
   "id": "f03b2168",
   "metadata": {},
   "outputs": [],
   "source": [
    "# "
   ]
  },
  {
   "cell_type": "markdown",
   "id": "605b6ade",
   "metadata": {},
   "source": [
    "# FOR"
   ]
  },
  {
   "cell_type": "code",
   "execution_count": 25,
   "id": "cd50a5ca",
   "metadata": {},
   "outputs": [
    {
     "ename": "SyntaxError",
     "evalue": "invalid syntax. Maybe you meant '==' or ':=' instead of '='? (2471197361.py, line 1)",
     "output_type": "error",
     "traceback": [
      "\u001b[1;36m  Cell \u001b[1;32mIn[25], line 1\u001b[1;36m\u001b[0m\n\u001b[1;33m    for(i=0;i<=10;i++){\u001b[0m\n\u001b[1;37m        ^\u001b[0m\n\u001b[1;31mSyntaxError\u001b[0m\u001b[1;31m:\u001b[0m invalid syntax. Maybe you meant '==' or ':=' instead of '='?\n"
     ]
    }
   ],
   "source": [
    "for(i=0;i<=10;i++){\n",
    " #iteracion\n",
    "}"
   ]
  },
  {
   "cell_type": "code",
   "execution_count": null,
   "id": "e9d64bcc",
   "metadata": {},
   "outputs": [],
   "source": [
    "colores = [\"Blanco\", \"Azul\", \"Verde\"]\n",
    "\n",
    "for color in colores:\n",
    "    print(colore)"
   ]
  },
  {
   "cell_type": "code",
   "execution_count": 1,
   "id": "446e9d40",
   "metadata": {},
   "outputs": [
    {
     "data": {
      "text/plain": [
       "'Verde'"
      ]
     },
     "execution_count": 1,
     "metadata": {},
     "output_type": "execute_result"
    }
   ],
   "source": [
    "colores = [\"Blanco\", \"Azul\", \"Verde\"]\n",
    "\n",
    "color = iter(colores)\n",
    "\n",
    "next(color)\n",
    "next(color)\n",
    "next(color)"
   ]
  },
  {
   "cell_type": "code",
   "execution_count": null,
   "id": "57b6306e",
   "metadata": {},
   "outputs": [],
   "source": [
    "valores = {'A': 4, 'E': 3, 'I': 1, 'O' 0}\n",
    "for k in valores:\n",
    "    print(k)\n",
    "    \n",
    "for v in valores.values():\n",
    "    print(v)\n",
    "    \n",
    "for k, v in valores.items():\n",
    "    print(k, \":\", v)"
   ]
  },
  {
   "cell_type": "code",
   "execution_count": 3,
   "id": "48b62d42",
   "metadata": {},
   "outputs": [
    {
     "name": "stdout",
     "output_type": "stream",
     "text": [
      "0\n",
      "1\n",
      "2\n",
      "3\n",
      "4\n",
      "5\n",
      "6\n",
      "7\n",
      "8\n",
      "9\n",
      "10\n"
     ]
    }
   ],
   "source": [
    "for i in range(11):\n",
    "    print(i)"
   ]
  },
  {
   "cell_type": "code",
   "execution_count": 4,
   "id": "480b91cc",
   "metadata": {},
   "outputs": [
    {
     "name": "stdout",
     "output_type": "stream",
     "text": [
      "2\n",
      "3\n",
      "4\n",
      "5\n",
      "6\n",
      "7\n",
      "8\n",
      "9\n",
      "10\n"
     ]
    }
   ],
   "source": [
    "for i in range(2,11):\n",
    "    print(i)"
   ]
  },
  {
   "cell_type": "code",
   "execution_count": 5,
   "id": "b7a7faec",
   "metadata": {},
   "outputs": [
    {
     "name": "stdout",
     "output_type": "stream",
     "text": [
      "2\n",
      "4\n",
      "6\n",
      "8\n",
      "10\n"
     ]
    }
   ],
   "source": [
    "for i in range(2,11,2):\n",
    "    print(i)"
   ]
  },
  {
   "cell_type": "code",
   "execution_count": null,
   "id": "d011f9bb",
   "metadata": {},
   "outputs": [],
   "source": [
    "#Sistema de tabla de multiplicar infinita\n",
    "\n",
    "#Inicio_rango\n",
    "#Final de rango\n",
    "#Inicio tabla \n",
    "#Final tabla"
   ]
  },
  {
   "cell_type": "code",
   "execution_count": 45,
   "id": "ebd6f914",
   "metadata": {},
   "outputs": [
    {
     "name": "stdout",
     "output_type": "stream",
     "text": [
      "ingresa el inicio1\n",
      "ingresa el final3\n",
      "ingresa el inicio de la tabla1\n",
      "ingresa el final de la tabla5\n",
      "1 x 1 = 1\n",
      "1 x 2 = 2\n",
      "1 x 3 = 3\n",
      "1 x 4 = 4\n",
      "1 x 5 = 5\n",
      "\n",
      "2 x 1 = 2\n",
      "2 x 2 = 4\n",
      "2 x 3 = 6\n",
      "2 x 4 = 8\n",
      "2 x 5 = 10\n",
      "\n",
      "3 x 1 = 3\n",
      "3 x 2 = 6\n",
      "3 x 3 = 9\n",
      "3 x 4 = 12\n",
      "3 x 5 = 15\n",
      "\n"
     ]
    }
   ],
   "source": [
    "inicio_rango = int(input(\"ingresa el inicio\"))\n",
    "final_rango = int(input(\"ingresa el final\"))\n",
    "inicio_tabla = int(input(\"ingresa el inicio de la tabla\"))\n",
    "final_tabla = int(input(\"ingresa el final de la tabla\"))\n",
    "\n",
    "for i in range(inicio_rango, final_rango + 1):\n",
    "    for j in range(inicio_tabla,final_tabla +1):\n",
    "        resultado = i * j\n",
    "        print(i,\"x\", j,\"=\", resultado)\n",
    "    print()"
   ]
  },
  {
   "cell_type": "code",
   "execution_count": null,
   "id": "ddedfaa6",
   "metadata": {},
   "outputs": [],
   "source": []
  }
 ],
 "metadata": {
  "kernelspec": {
   "display_name": "Python 3 (ipykernel)",
   "language": "python",
   "name": "python3"
  },
  "language_info": {
   "codemirror_mode": {
    "name": "ipython",
    "version": 3
   },
   "file_extension": ".py",
   "mimetype": "text/x-python",
   "name": "python",
   "nbconvert_exporter": "python",
   "pygments_lexer": "ipython3",
   "version": "3.11.4"
  }
 },
 "nbformat": 4,
 "nbformat_minor": 5
}
