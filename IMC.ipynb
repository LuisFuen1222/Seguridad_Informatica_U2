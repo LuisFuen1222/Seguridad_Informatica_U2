{
 "cells": [
  {
   "cell_type": "code",
   "execution_count": null,
   "id": "c1d8d963",
   "metadata": {},
   "outputs": [],
   "source": [
    "# 1. Lista\n",
    "\n",
    "frutas= [\"manzanas\", \"bananas\", \"cereza\"]\n",
    "numeros = [1, 2, 3, 4, 5]\n",
    "mixto= [\"Texto\", 123, True, 3.14]"
   ]
  },
  {
   "cell_type": "code",
   "execution_count": null,
   "id": "2020f89c",
   "metadata": {},
   "outputs": [],
   "source": [
    "# acceso de datos\n",
    "\n",
    "print(frutas[0])\n",
    "\n",
    "for i in numeros:\n",
    "    print(i)"
   ]
  },
  {
   "cell_type": "code",
   "execution_count": null,
   "id": "45d4c4b9",
   "metadata": {},
   "outputs": [],
   "source": [
    "mixto[1] = \"Holamundo\"\n",
    "print(mixto)"
   ]
  },
  {
   "cell_type": "code",
   "execution_count": null,
   "id": "b3ed67e2",
   "metadata": {},
   "outputs": [],
   "source": [
    "#Metodos \n",
    "\n",
    "frutas.append(\"naranja\")  # Agrega un elemnto al final\n",
    "frutas.remove(\"manzana\")  # Eliminar un elemento especifico\n",
    "frutas.pop()              # Eliminar un elemento"
   ]
  },
  {
   "cell_type": "code",
   "execution_count": null,
   "id": "2a03ba01",
   "metadata": {},
   "outputs": [],
   "source": [
    "# 2. tuplas\n",
    "color = (\"rojo\", \"verde\", \"azul\")\n",
    "\n",
    "print(color)"
   ]
  },
  {
   "cell_type": "code",
   "execution_count": null,
   "id": "61eed8cb",
   "metadata": {},
   "outputs": [],
   "source": [
    "print(colores[1])\n",
    "\n",
    "colores[1] = \"negro\""
   ]
  },
  {
   "cell_type": "code",
   "execution_count": 3,
   "id": "94059395",
   "metadata": {},
   "outputs": [],
   "source": [
    "#3. conjunto (sets)\n",
    "animales = {\"gato\", \"perro\", \"pez\"}"
   ]
  },
  {
   "cell_type": "code",
   "execution_count": 4,
   "id": "67afcaab",
   "metadata": {},
   "outputs": [],
   "source": [
    "# metodo\n",
    "\n",
    "animales.add(\"pajaro\")\n",
    "animales.remove(\"pez\")"
   ]
  },
  {
   "cell_type": "code",
   "execution_count": 5,
   "id": "4fb1ad02",
   "metadata": {},
   "outputs": [
    {
     "name": "stdout",
     "output_type": "stream",
     "text": [
      "perro\n",
      "pajaro\n",
      "gato\n"
     ]
    }
   ],
   "source": [
    "for animal in animales:\n",
    "    print(animal)"
   ]
  },
  {
   "cell_type": "code",
   "execution_count": 7,
   "id": "38d41ef5",
   "metadata": {},
   "outputs": [],
   "source": [
    "#diccionario\n",
    "\n",
    "persona = {\n",
    "    \"nombre\": \"Luis\",\n",
    "    \"ap_paterno\": \"Fuentes\",\n",
    "    \"ap_materno\": \"Kumul\",\n",
    "    \"edad\": 19,\n",
    "    \"ciudad\": \"Cancun\",\n",
    "    \"altura\": 1.72,\n",
    "    \"peso\": 80\n",
    "}"
   ]
  },
  {
   "cell_type": "code",
   "execution_count": 8,
   "id": "1eddb203",
   "metadata": {},
   "outputs": [
    {
     "name": "stdout",
     "output_type": "stream",
     "text": [
      "19\n"
     ]
    }
   ],
   "source": [
    "print(persona[\"edad\"])"
   ]
  },
  {
   "cell_type": "code",
   "execution_count": 10,
   "id": "9aee74ca",
   "metadata": {},
   "outputs": [
    {
     "name": "stdout",
     "output_type": "stream",
     "text": [
      "nombre\n",
      "ap_paterno\n",
      "ap_materno\n",
      "edad\n",
      "ciudad\n",
      "altura\n",
      "peso\n"
     ]
    }
   ],
   "source": [
    "for k in persona:\n",
    "    print(k)"
   ]
  },
  {
   "cell_type": "code",
   "execution_count": 11,
   "id": "df19b6fd",
   "metadata": {},
   "outputs": [
    {
     "name": "stdout",
     "output_type": "stream",
     "text": [
      "Luis\n",
      "Fuentes\n",
      "Kumul\n",
      "19\n",
      "Cancun\n",
      "1.72\n",
      "80\n"
     ]
    }
   ],
   "source": [
    "for v in persona.values():\n",
    "    print(v)"
   ]
  },
  {
   "cell_type": "code",
   "execution_count": 12,
   "id": "0c8bae50",
   "metadata": {},
   "outputs": [
    {
     "name": "stdout",
     "output_type": "stream",
     "text": [
      "La clave es: nombre y el valor es Luis\n",
      "La clave es: ap_paterno y el valor es Fuentes\n",
      "La clave es: ap_materno y el valor es Kumul\n",
      "La clave es: edad y el valor es 19\n",
      "La clave es: ciudad y el valor es Cancun\n",
      "La clave es: altura y el valor es 1.72\n",
      "La clave es: peso y el valor es 80\n"
     ]
    }
   ],
   "source": [
    "for k,v in persona.items():\n",
    "    print(f\"La clave es: {k} y el valor es {v}\")"
   ]
  },
  {
   "cell_type": "code",
   "execution_count": null,
   "id": "d718dd35",
   "metadata": {},
   "outputs": [],
   "source": [
    "# funcion que me determina el IMC, Y QUE ME DIGA\n",
    "#Nivel de peso\n",
    "\n",
    "def Peso_altura():\n",
    "    nombre = int(input (\"ingresa tu nombre \"))\n",
    "    peso = int(input (\"ingresa tu peso \"))\n",
    "    altura = int (input(\"ingresa tu altura \"))\n",
    "    \n",
    "pesos = {\n",
    "    \"nombre\": nombre,\n",
    "    \"peso\": peso,\n",
    "    \"altura\": altura\n",
    "}\n",
    "\n"
   ]
  },
  {
   "cell_type": "code",
   "execution_count": 4,
   "id": "aa9432f4",
   "metadata": {},
   "outputs": [
    {
     "name": "stdout",
     "output_type": "stream",
     "text": [
      "Ingrese su nombre: LUIS\n",
      "Ingrese su altura: 1.72\n",
      "Ingrese su peso kg: 80\n",
      "\n",
      "¡Hola LUIS!\n",
      "Tu Índice de Masa Corporal (IMC) es: 27.04\n",
      "Clasificación de peso: Sobrepeso\n"
     ]
    }
   ],
   "source": [
    "def calcular_imc():\n",
    "    nombre = input(\"Ingrese su nombre: \")\n",
    "\n",
    "    altura = float(input(\"Ingrese su altura: \"))\n",
    "\n",
    "    peso = float(input(\"Ingrese su peso kg: \"))\n",
    "\n",
    "    imc = peso / (altura ** 2)\n",
    "\n",
    "   \n",
    "    if imc < 18.5:\n",
    "        clasificacion = \"Bajo peso\"\n",
    "    elif 18.5 <= imc < 24.9:\n",
    "        clasificacion = \"Peso normal\"\n",
    "    elif 25 <= imc < 29.9:\n",
    "        clasificacion = \"Sobrepeso\"\n",
    "    else:\n",
    "        clasificacion = \"Obesidad\"\n",
    "\n",
    "    print(f\"\\n¡Hola {nombre}!\")\n",
    "    print(f\"Tu Índice de Masa Corporal (IMC) es: {imc:.2f}\")\n",
    "    print(f\"Clasificación de peso: {clasificacion}\")\n",
    "\n",
    "\n",
    "calcular_imc()"
   ]
  },
  {
   "cell_type": "code",
   "execution_count": null,
   "id": "e85944b2",
   "metadata": {},
   "outputs": [],
   "source": []
  }
 ],
 "metadata": {
  "kernelspec": {
   "display_name": "Python 3 (ipykernel)",
   "language": "python",
   "name": "python3"
  },
  "language_info": {
   "codemirror_mode": {
    "name": "ipython",
    "version": 3
   },
   "file_extension": ".py",
   "mimetype": "text/x-python",
   "name": "python",
   "nbconvert_exporter": "python",
   "pygments_lexer": "ipython3",
   "version": "3.11.4"
  }
 },
 "nbformat": 4,
 "nbformat_minor": 5
}
