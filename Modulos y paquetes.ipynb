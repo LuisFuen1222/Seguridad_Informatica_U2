{
 "cells": [
  {
   "cell_type": "code",
   "execution_count": 1,
   "id": "5c878137",
   "metadata": {
    "scrolled": false
   },
   "outputs": [],
   "source": [
    "from mipaquete2 import TablaDeMultiplicar\n",
    "from mipaquete2 import Adivina_el_numero\n",
    "from mipaquete2 import calculadora_de_propina"
   ]
  },
  {
   "cell_type": "code",
   "execution_count": 4,
   "id": "7738c2a9",
   "metadata": {
    "scrolled": true
   },
   "outputs": [
    {
     "name": "stdout",
     "output_type": "stream",
     "text": [
      "ingresa el inicio2\n",
      "ingresa el final3\n",
      "ingresa el inicio de la tabla4\n",
      "ingresa el final de la tabla5\n",
      "2 x 4 = 8\n",
      "2 x 5 = 10\n",
      "\n",
      "3 x 4 = 12\n",
      "3 x 5 = 15\n",
      "\n"
     ]
    }
   ],
   "source": [
    "TablaDeMultiplicar.tablas()"
   ]
  },
  {
   "cell_type": "code",
   "execution_count": 2,
   "id": "15f27e84",
   "metadata": {
    "scrolled": false
   },
   "outputs": [
    {
     "name": "stdout",
     "output_type": "stream",
     "text": [
      "Adivina el número (entre 1 y 10): 1\n",
      "El número es mayor. Intenta de nuevo.\n",
      "Adivina el número (entre 1 y 10): 2\n",
      "El número es mayor. Intenta de nuevo.\n",
      "Adivina el número (entre 1 y 10): 3\n",
      "El número es mayor. Intenta de nuevo.\n",
      "Adivina el número (entre 1 y 10): 4\n",
      "El número es mayor. Intenta de nuevo.\n",
      "Adivina el número (entre 1 y 10): 5\n",
      "¡Felicidades! ¡Adivinaste el número!\n"
     ]
    }
   ],
   "source": [
    "Adivina_el_numero.adivinansa()"
   ]
  },
  {
   "cell_type": "code",
   "execution_count": 5,
   "id": "ddab3343",
   "metadata": {
    "scrolled": true
   },
   "outputs": [
    {
     "name": "stdout",
     "output_type": "stream",
     "text": [
      "Ingrese el costo de la comida: 500\n",
      "Ingrese el porcentaje de propina que desea dejar: 30\n",
      "Propina: $150.00\n",
      "Costo total de la comida: $650.00\n"
     ]
    }
   ],
   "source": [
    "calculadora_de_propina.propina()"
   ]
  },
  {
   "cell_type": "code",
   "execution_count": null,
   "id": "5e3a5939",
   "metadata": {},
   "outputs": [],
   "source": []
  }
 ],
 "metadata": {
  "kernelspec": {
   "display_name": "Python 3 (ipykernel)",
   "language": "python",
   "name": "python3"
  },
  "language_info": {
   "codemirror_mode": {
    "name": "ipython",
    "version": 3
   },
   "file_extension": ".py",
   "mimetype": "text/x-python",
   "name": "python",
   "nbconvert_exporter": "python",
   "pygments_lexer": "ipython3",
   "version": "3.11.4"
  }
 },
 "nbformat": 4,
 "nbformat_minor": 5
}
